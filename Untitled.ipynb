{
 "cells": [
  {
   "cell_type": "code",
   "execution_count": null,
   "id": "2c5798a2",
   "metadata": {},
   "outputs": [],
   "source": [
    "from fastapi import FastAPI ,File, UploadFile\n",
    "import uvicorn\n",
    "import numpy as np\n",
    "from io import BytesIO\n",
    "from PIL import Image\n",
    "import tensorflow as tf\n",
    "app=FastAPI()\n",
    "MODEL=tf.keras.models.load_model(\"C:/Users/kumar/Desktop/project/potato-disease/saved_models/1\")\n",
    "CLASS_NAMES=[\"Early Blight\",\"Late Blight\",\"Healthy\"]\n",
    "@app.get(\"/ping\")\n",
    "async def ping():\n",
    "    return \"hello i am alive\"\n",
    "\n",
    "def read_file_as_image(data)-> np.ndarray:\n",
    "    image=np.array(Image.open(BytesIO(data)))\n",
    "    return image\n",
    "@app.post(\"/predict\")\n",
    "async def predict(\n",
    "    file: UploadFile =File(...)\n",
    "):\n",
    "    image=read_file_as_image(await file.read())\n",
    "    img_batch=np.expand_dims(image,0)\n",
    "    prediction=MODEL.predict(img_batch)\n",
    "    pass\n",
    "\n",
    "if __name__==\"__main__\":\n",
    "    uvicorn.run(app,host='localhost',port=8000)\n",
    "\n",
    "# print(tf.version)"
   ]
  },
  {
   "cell_type": "code",
   "execution_count": null,
   "id": "256430c6",
   "metadata": {},
   "outputs": [],
   "source": []
  },
  {
   "cell_type": "code",
   "execution_count": null,
   "id": "7252b0b9",
   "metadata": {},
   "outputs": [],
   "source": []
  }
 ],
 "metadata": {
  "kernelspec": {
   "display_name": "Python 3 (ipykernel)",
   "language": "python",
   "name": "python3"
  },
  "language_info": {
   "codemirror_mode": {
    "name": "ipython",
    "version": 3
   },
   "file_extension": ".py",
   "mimetype": "text/x-python",
   "name": "python",
   "nbconvert_exporter": "python",
   "pygments_lexer": "ipython3",
   "version": "3.10.9"
  }
 },
 "nbformat": 4,
 "nbformat_minor": 5
}
